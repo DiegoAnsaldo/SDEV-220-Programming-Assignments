{
 "cells": [
  {
   "cell_type": "code",
   "execution_count": 16,
   "id": "4ad27ee7",
   "metadata": {},
   "outputs": [],
   "source": [
    "from datetime import date\n",
    "\n",
    "dates = open(\"today.txt\", \"w\")\n",
    "date_now = date.today()\n",
    "dates.write(str(date_now))\n",
    "dates.close()"
   ]
  },
  {
   "cell_type": "code",
   "execution_count": 18,
   "id": "258055f3",
   "metadata": {},
   "outputs": [
    {
     "name": "stdout",
     "output_type": "stream",
     "text": [
      "['2023-02-26']\n"
     ]
    }
   ],
   "source": [
    "dates = open(\"today.txt\", \"r\")\n",
    "today_string = dates.read()\n",
    "dateList = today_string.split()\n",
    "print(dateList)"
   ]
  },
  {
   "cell_type": "code",
   "execution_count": 44,
   "id": "af4d0ee3",
   "metadata": {},
   "outputs": [],
   "source": [
    "import time\n",
    "from random import randint\n",
    "from datetime import date\n",
    "import multiprocessing\n",
    "\n",
    "def rand_time(arg_placeholder):\n",
    "    time.sleep(randint(0,1))\n",
    "    print(str(time.ctime()))\n",
    "    return\n",
    "\n",
    "if __name__== \"__main__\":\n",
    "    p1 = multiprocessing.Process(target=rand_time, args=(\"none\",))\n",
    "    p2 = multiprocessing.Process(target=rand_time, args=(\"none\",))\n",
    "    p3 = multiprocessing.Process(target=rand_time, args=(\"none\",))\n",
    "    \n",
    "    p1.start()\n",
    "    p2.start()\n",
    "    p3.start()\n",
    "\n",
    "    p1.join()\n",
    "    p2.join()\n",
    "    p3.join()\n",
    "    \n",
    "# This section does not output in jupyter, but this exact code works perfectly when just running through vscode."
   ]
  }
 ],
 "metadata": {
  "kernelspec": {
   "display_name": "Python 3 (ipykernel)",
   "language": "python",
   "name": "python3"
  },
  "language_info": {
   "codemirror_mode": {
    "name": "ipython",
    "version": 3
   },
   "file_extension": ".py",
   "mimetype": "text/x-python",
   "name": "python",
   "nbconvert_exporter": "python",
   "pygments_lexer": "ipython3",
   "version": "3.9.13"
  }
 },
 "nbformat": 4,
 "nbformat_minor": 5
}
