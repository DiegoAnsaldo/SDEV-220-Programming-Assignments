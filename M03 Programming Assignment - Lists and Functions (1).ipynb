{
 "cells": [
  {
   "cell_type": "code",
   "execution_count": 5,
   "id": "b86502db",
   "metadata": {},
   "outputs": [
    {
     "name": "stdout",
     "output_type": "stream",
     "text": [
      "['mozzarella', 'Cinderella', 'salmonela']\n",
      "['MOZZARELLA', 'Cinderella', 'salmonela']\n",
      "['MOZZARELLA', 'Cinderella']\n"
     ]
    }
   ],
   "source": [
    "things = [\"mozzarella\", \"cinderella\", \"salmonela\"]\n",
    "things[1] = \"Cinderella\"\n",
    "print(things)\n",
    "things[0] = \"MOZZARELLA\"\n",
    "print(things)\n",
    "del things[2]\n",
    "print(things)"
   ]
  },
  {
   "cell_type": "code",
   "execution_count": 13,
   "id": "0b4ff125",
   "metadata": {},
   "outputs": [
    {
     "name": "stdout",
     "output_type": "stream",
     "text": [
      "5\n"
     ]
    }
   ],
   "source": [
    "def good():\n",
    "    characters = [\"Harry\", \"Ron\", \"Hermione\"]\n",
    "    return characters\n",
    "\n",
    "def get_odds():\n",
    "    listnums = []\n",
    "    \n",
    "    for num in range(10):\n",
    "        if num % 2 != 0:\n",
    "            listnums.append(num)\n",
    "    return listnums\n",
    "\n",
    "odds = get_odds()\n",
    "\n",
    "for i in range(len(odds)):\n",
    "    if i == 2:\n",
    "        print(odds[i])"
   ]
  }
 ],
 "metadata": {
  "kernelspec": {
   "display_name": "Python 3 (ipykernel)",
   "language": "python",
   "name": "python3"
  },
  "language_info": {
   "codemirror_mode": {
    "name": "ipython",
    "version": 3
   },
   "file_extension": ".py",
   "mimetype": "text/x-python",
   "name": "python",
   "nbconvert_exporter": "python",
   "pygments_lexer": "ipython3",
   "version": "3.9.13"
  }
 },
 "nbformat": 4,
 "nbformat_minor": 5
}
