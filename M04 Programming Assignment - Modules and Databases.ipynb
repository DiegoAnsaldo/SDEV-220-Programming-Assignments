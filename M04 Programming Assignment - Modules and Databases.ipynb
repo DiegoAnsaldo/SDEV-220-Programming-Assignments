{
 "cells": [
  {
   "cell_type": "code",
   "execution_count": 4,
   "id": "9e26ad05",
   "metadata": {},
   "outputs": [
    {
     "name": "stdout",
     "output_type": "stream",
     "text": [
      "Open 9-5 daily\n"
     ]
    }
   ],
   "source": [
    "from zoo import hours\n",
    "\n",
    "hours()"
   ]
  },
  {
   "cell_type": "code",
   "execution_count": 9,
   "id": "1d47bf7a",
   "metadata": {},
   "outputs": [
    {
     "name": "stdout",
     "output_type": "stream",
     "text": [
      "Open 9-5 daily\n"
     ]
    }
   ],
   "source": [
    "import zoo as menagerie\n",
    "\n",
    "menagerie.hours()"
   ]
  },
  {
   "cell_type": "code",
   "execution_count": 34,
   "id": "855c4350",
   "metadata": {},
   "outputs": [
    {
     "name": "stdout",
     "output_type": "stream",
     "text": [
      "[('Perdido Street Station',), ('Small Gods',), ('The Spellman Files',), ('The Weirdstone of Brisingamen',), ('Thud!',)]\n"
     ]
    }
   ],
   "source": [
    "import sqlite3\n",
    "\n",
    "conn = sqlite3.connect('books.db')\n",
    "\n",
    "c = conn.cursor()\n",
    "\n",
    "# I used the below code to create the table, and didn't need to use it any more (it would cause errors). However, I was unsure\n",
    "# if you would want me to leave in the code so you could see if I did it correctly.\n",
    "\n",
    "#c.execute(\"\"\"CREATE TABLE books (\n",
    "#            Title text,\n",
    "#            Author text,\n",
    "#            Year integer\n",
    "#    )\"\"\")\n",
    "\n",
    "#c.execute(\"INSERT INTO books VALUES ('The Weirdstone of Brisingamen', 'Alan Garner', 1960)\")\n",
    "#c.execute(\"INSERT INTO books VALUES ('Perdido Street Station', 'China Mieville', 2000)\")\n",
    "#c.execute(\"INSERT INTO books VALUES ('Thud!', 'Terry Pratchett', 2005)\")\n",
    "#c.execute(\"INSERT INTO books VALUES ('The Spellman Files', 'Lisa Lutz', 2007)\")\n",
    "#c.execute(\"INSERT INTO books VALUES ('Small Gods', 'Terry Pratchett', 1992)\")\n",
    "\n",
    "c.execute(\"SELECT Title FROM books\")\n",
    "\n",
    "titles = c.fetchall()\n",
    "\n",
    "conn.commit()\n",
    "\n",
    "conn.close()\n",
    "\n",
    "sort_titles = sorted(titles)\n",
    "\n",
    "print(sort_titles)"
   ]
  }
 ],
 "metadata": {
  "kernelspec": {
   "display_name": "Python 3 (ipykernel)",
   "language": "python",
   "name": "python3"
  },
  "language_info": {
   "codemirror_mode": {
    "name": "ipython",
    "version": 3
   },
   "file_extension": ".py",
   "mimetype": "text/x-python",
   "name": "python",
   "nbconvert_exporter": "python",
   "pygments_lexer": "ipython3",
   "version": "3.9.13"
  }
 },
 "nbformat": 4,
 "nbformat_minor": 5
}
