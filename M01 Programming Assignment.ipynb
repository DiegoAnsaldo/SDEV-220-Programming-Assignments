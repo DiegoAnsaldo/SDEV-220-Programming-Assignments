{
 "cells": [
  {
   "cell_type": "code",
   "execution_count": 13,
   "id": "7bc49f7d",
   "metadata": {},
   "outputs": [
    {
     "name": "stdout",
     "output_type": "stream",
     "text": [
      "The number of seconds in an hour is 3600\n",
      "The number of seconds in a day is 86400\n",
      "Seconds per day divided by seconds per hour using floating point division:  24.0\n",
      "Seconds per day divided by seconds per hour using integer division:  24\n"
     ]
    },
    {
     "data": {
      "text/plain": [
       "'In answer to 3.6, the two operations do agree.'"
      ]
     },
     "execution_count": 13,
     "metadata": {},
     "output_type": "execute_result"
    }
   ],
   "source": [
    "secInMin = 60\n",
    "minInHour = 60\n",
    "seconds_per_hour = secInMin * minInHour\n",
    "print(\"The number of seconds in an hour is\",seconds_per_hour)\n",
    "seconds_per_day = seconds_per_hour * 24\n",
    "print(\"The number of seconds in a day is\", seconds_per_day)\n",
    "print(\"Seconds per day divided by seconds per hour using floating point division: \", seconds_per_day / seconds_per_hour)\n",
    "print(\"Seconds per day divided by seconds per hour using integer division: \", seconds_per_day // seconds_per_hour)\n",
    "'In answer to 3.6, the two operations do agree.'"
   ]
  }
 ],
 "metadata": {
  "kernelspec": {
   "display_name": "Python 3 (ipykernel)",
   "language": "python",
   "name": "python3"
  },
  "language_info": {
   "codemirror_mode": {
    "name": "ipython",
    "version": 3
   },
   "file_extension": ".py",
   "mimetype": "text/x-python",
   "name": "python",
   "nbconvert_exporter": "python",
   "pygments_lexer": "ipython3",
   "version": "3.9.13"
  }
 },
 "nbformat": 4,
 "nbformat_minor": 5
}
